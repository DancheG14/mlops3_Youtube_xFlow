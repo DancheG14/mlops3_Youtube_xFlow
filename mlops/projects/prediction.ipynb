{
 "cells": [
  {
   "cell_type": "code",
   "execution_count": 9,
   "id": "54842061-f8cf-4cd3-b21b-b9caadc54961",
   "metadata": {},
   "outputs": [],
   "source": [
    "from sklearn.linear_model import LinearRegression,  LogisticRegression\n",
    "from sklearn import metrics\n",
    "import pickle\n",
    "import pandas as pd\n",
    "from sklearn.metrics import r2_score\n",
    " "
   ]
  },
  {
   "cell_type": "code",
   "execution_count": 10,
   "id": "63e1b925-3643-4168-8a85-78a0b568b38f",
   "metadata": {},
   "outputs": [],
   "source": [
    "df = pd.read_csv('data_test.csv', header=None)\n",
    "df.columns = ['id', 'counts']\n"
   ]
  },
  {
   "cell_type": "code",
   "execution_count": 12,
   "id": "5a0f0986-b190-4938-a310-e3b152a4beb3",
   "metadata": {},
   "outputs": [
    {
     "name": "stdout",
     "output_type": "stream",
     "text": [
      "score= -1.622526961338664\n",
      "r2_score= -1.8426288809043276\n"
     ]
    }
   ],
   "source": [
    "model = LinearRegression()\n",
    "with open('data.pickle', 'rb') as f:\n",
    "    model = pickle.load(f)\n",
    "y_pred = df['id'].values.reshape(-1,1)\n",
    "y = df['counts']\n",
    "r2 = r2_score(y_pred, y)\n",
    "score = model.score(df['id'].values.reshape(-1,1), df['counts'])\n",
    "print(\"score=\", score)\n",
    "print(\"r2_score=\", r2)"
   ]
  }
 ],
 "metadata": {
  "kernelspec": {
   "display_name": "Python 3 (ipykernel)",
   "language": "python",
   "name": "python3"
  },
  "language_info": {
   "codemirror_mode": {
    "name": "ipython",
    "version": 3
   },
   "file_extension": ".py",
   "mimetype": "text/x-python",
   "name": "python",
   "nbconvert_exporter": "python",
   "pygments_lexer": "ipython3",
   "version": "3.8.13"
  }
 },
 "nbformat": 4,
 "nbformat_minor": 5
}
