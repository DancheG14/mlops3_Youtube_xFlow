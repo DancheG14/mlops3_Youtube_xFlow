{
 "cells": [
  {
   "cell_type": "code",
   "execution_count": 1,
   "id": "7aba123b-e946-4445-980f-8ed9a11c4c55",
   "metadata": {},
   "outputs": [],
   "source": [
    "from sklearn.linear_model import LogisticRegression, LinearRegression\n",
    "from sklearn import metrics\n",
    "import pickle\n",
    "import pandas as pd\n"
   ]
  },
  {
   "cell_type": "code",
   "execution_count": 2,
   "id": "5512d213-f3de-4bb6-9f4a-c7d081cff6f6",
   "metadata": {},
   "outputs": [],
   "source": [
    " \n",
    "df = pd.read_csv('data_train.csv', header=None)\n",
    "df.columns = ['id', 'counts']\n"
   ]
  },
  {
   "cell_type": "code",
   "execution_count": 3,
   "id": "d186bbc7-d062-42dc-b636-2c8a4ac64f6c",
   "metadata": {},
   "outputs": [],
   "source": [
    "lg = LogisticRegression()\n",
    "model = LinearRegression()\n",
    "model.fit(df['id'].values.reshape(-1,1), df['counts'])\n",
    "#lr.fit(df['id'].values.reshape(-1,1), df['counts'])\n",
    " \n",
    "with open('data.pickle', 'wb') as f:\n",
    "    pickle.dump(model, f)\n",
    "    #pickle.dump(lr, f)"
   ]
  },
  {
   "cell_type": "code",
   "execution_count": null,
   "id": "15d77f4b-b171-469c-972e-acb912dc77eb",
   "metadata": {},
   "outputs": [],
   "source": []
  }
 ],
 "metadata": {
  "kernelspec": {
   "display_name": "Python 3 (ipykernel)",
   "language": "python",
   "name": "python3"
  },
  "language_info": {
   "codemirror_mode": {
    "name": "ipython",
    "version": 3
   },
   "file_extension": ".py",
   "mimetype": "text/x-python",
   "name": "python",
   "nbconvert_exporter": "python",
   "pygments_lexer": "ipython3",
   "version": "3.8.13"
  }
 },
 "nbformat": 4,
 "nbformat_minor": 5
}
